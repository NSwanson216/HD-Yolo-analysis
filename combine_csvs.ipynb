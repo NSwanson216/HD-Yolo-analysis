{
 "cells": [
  {
   "cell_type": "code",
   "execution_count": 1,
   "metadata": {},
   "outputs": [],
   "source": [
    "import os\n",
    "import pandas as pd"
   ]
  },
  {
   "cell_type": "code",
   "execution_count": 11,
   "metadata": {},
   "outputs": [],
   "source": [
    "input_path = r\"E:\\No_tissue_check_folders\\Nuclei_analysis\"\n",
    "dest = r\"E:\\No_tissue_check_folders\\dataset_csvs\""
   ]
  },
  {
   "cell_type": "code",
   "execution_count": 30,
   "metadata": {},
   "outputs": [],
   "source": [
    "#combines the csv's from the results of the analysis\n",
    "for folder in os.listdir(input_path):\n",
    "    folder_path = os.path.join(input_path, folder)\n",
    "    full_df = pd.DataFrame()\n",
    "    index = []\n",
    "    for csv in os.listdir(folder_path):\n",
    "        csv_path = os.path.join(folder_path, csv)\n",
    "        temp_df = pd.read_csv(csv_path, sep=',')\n",
    "        full_df = pd.concat((full_df, temp_df), axis=0) # check this with the leading 3 eigenvec things\n",
    "        index.append(os.path.split(csv)[1][:-4])\n",
    "    full_df['Sample ID'] = index # the sample ID stuff needs to be fixed\n",
    "    full_df.set_index('Sample ID', inplace=True)\n",
    "    dest_name = os.path.join(dest, (folder + '.csv'))\n",
    "    full_df.to_csv(dest_name)"
   ]
  },
  {
   "cell_type": "code",
   "execution_count": 12,
   "metadata": {},
   "outputs": [],
   "source": [
    "#removes the 'Unnamed' column\n",
    "for csv in os.listdir(dest):\n",
    "    df = pd.read_csv(os.path.join(dest, csv), sep=',')\n",
    "    df.set_index('Sample ID', inplace=True)\n",
    "    df = df.loc[:, ~df.columns.str.contains('Unnamed')]\n",
    "    df.to_csv(os.path.join(dest, csv))\n"
   ]
  },
  {
   "cell_type": "code",
   "execution_count": null,
   "metadata": {},
   "outputs": [],
   "source": []
  }
 ],
 "metadata": {
  "kernelspec": {
   "display_name": "HD-Yolo-venv",
   "language": "python",
   "name": "python3"
  },
  "language_info": {
   "codemirror_mode": {
    "name": "ipython",
    "version": 3
   },
   "file_extension": ".py",
   "mimetype": "text/x-python",
   "name": "python",
   "nbconvert_exporter": "python",
   "pygments_lexer": "ipython3",
   "version": "3.9.18"
  }
 },
 "nbformat": 4,
 "nbformat_minor": 2
}
