{
 "cells": [
  {
   "cell_type": "markdown",
   "id": "ad8bc50d-0d87-4725-872f-7f3ec3442679",
   "metadata": {},
   "source": [
    "### Analysis on HD-Yolo Segmentation Results"
   ]
  },
  {
   "cell_type": "code",
   "execution_count": 1,
   "id": "660d06b5-1ffd-433b-a049-48c2e6daeaf8",
   "metadata": {},
   "outputs": [],
   "source": [
    "from nuclei_analysis import *\n",
    "from time import time"
   ]
  },
  {
   "cell_type": "code",
   "execution_count": null,
   "id": "90336665-0ff3-48e3-b73a-c2c47eb9ca7e",
   "metadata": {},
   "outputs": [],
   "source": [
    "threshold = np.arange(15, 40, 5)\n",
    "input_dir = r\"C:\\Users\\fiddl\\IDC-GDC\\CCG-MILD\\test_patches_masks\"\n",
    "output_dir = r\"C:\\Users\\fiddl\\IDC-GDC\\CCG-MILD\\Outputs\"\n",
    "ploidy_dir = r\"G:\\My Drive\\ISB - Work\\Texture Analysis\\Clinical Data\\MILD\\MILD_WGD_TRUNCATED.csv\"\n",
    "i = 0\n",
    "time1 = time()\n",
    "    \n",
    "for thresh in threshold:\n",
    "    i+=1\n",
    "    output_sub = os.path.join(output_dir, ('output_'+str(i)+'.csv'))\n",
    "    ploidy_values = main(input_dir, output_sub, ploidy_dir, thresh)\n",
    "    ploidy_values.to_csv(output_sub)\n",
    "    elapsed = time() - time1\n",
    "    print(elapsed)"
   ]
  }
 ],
 "metadata": {
  "kernelspec": {
   "display_name": "Python 3 (ipykernel)",
   "language": "python",
   "name": "python3"
  },
  "language_info": {
   "codemirror_mode": {
    "name": "ipython",
    "version": 3
   },
   "file_extension": ".py",
   "mimetype": "text/x-python",
   "name": "python",
   "nbconvert_exporter": "python",
   "pygments_lexer": "ipython3",
   "version": "3.9.18"
  }
 },
 "nbformat": 4,
 "nbformat_minor": 5
}
