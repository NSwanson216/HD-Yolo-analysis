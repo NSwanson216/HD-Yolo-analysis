{
 "cells": [
  {
   "cell_type": "markdown",
   "id": "ad8bc50d-0d87-4725-872f-7f3ec3442679",
   "metadata": {},
   "source": [
    "### Analysis on HD-Yolo Segmentation Results"
   ]
  },
  {
   "cell_type": "code",
   "execution_count": 1,
   "id": "660d06b5-1ffd-433b-a049-48c2e6daeaf8",
   "metadata": {},
   "outputs": [],
   "source": [
    "from nuclei_analysis import *\n",
    "from time import time\n",
    "from sklearn.ensemble import RandomForestClassifier\n",
    "from sklearn.model_selection import train_test_split\n",
    "from sklearn.metrics import accuracy_score"
   ]
  },
  {
   "cell_type": "code",
   "execution_count": 2,
   "id": "90336665-0ff3-48e3-b73a-c2c47eb9ca7e",
   "metadata": {},
   "outputs": [
    {
     "data": {
      "text/html": [
       "<div>\n",
       "<style scoped>\n",
       "    .dataframe tbody tr th:only-of-type {\n",
       "        vertical-align: middle;\n",
       "    }\n",
       "\n",
       "    .dataframe tbody tr th {\n",
       "        vertical-align: top;\n",
       "    }\n",
       "\n",
       "    .dataframe thead th {\n",
       "        text-align: right;\n",
       "    }\n",
       "</style>\n",
       "<table border=\"1\" class=\"dataframe\">\n",
       "  <thead>\n",
       "    <tr style=\"text-align: right;\">\n",
       "      <th></th>\n",
       "      <th>c_ploidy</th>\n",
       "      <th>n_ploidy</th>\n",
       "      <th>ground_truth</th>\n",
       "    </tr>\n",
       "    <tr>\n",
       "      <th>Sample_ID</th>\n",
       "      <th></th>\n",
       "      <th></th>\n",
       "      <th></th>\n",
       "    </tr>\n",
       "  </thead>\n",
       "  <tbody>\n",
       "    <tr>\n",
       "      <th>B587-TTP1</th>\n",
       "      <td>1.070084</td>\n",
       "      <td>1.097682</td>\n",
       "      <td>3.92</td>\n",
       "    </tr>\n",
       "    <tr>\n",
       "      <th>B588-TTP1</th>\n",
       "      <td>1.071604</td>\n",
       "      <td>1.072743</td>\n",
       "      <td>1.71</td>\n",
       "    </tr>\n",
       "    <tr>\n",
       "      <th>B589-TTP1</th>\n",
       "      <td>1.069502</td>\n",
       "      <td>1.089759</td>\n",
       "      <td>2.15</td>\n",
       "    </tr>\n",
       "    <tr>\n",
       "      <th>B58A-TTP1</th>\n",
       "      <td>1.020493</td>\n",
       "      <td>1.171277</td>\n",
       "      <td>1.84</td>\n",
       "    </tr>\n",
       "    <tr>\n",
       "      <th>B58B-TTP1</th>\n",
       "      <td>1.057322</td>\n",
       "      <td>1.080000</td>\n",
       "      <td>1.85</td>\n",
       "    </tr>\n",
       "  </tbody>\n",
       "</table>\n",
       "</div>"
      ],
      "text/plain": [
       "           c_ploidy  n_ploidy  ground_truth\n",
       "Sample_ID                                  \n",
       "B587-TTP1  1.070084  1.097682          3.92\n",
       "B588-TTP1  1.071604  1.072743          1.71\n",
       "B589-TTP1  1.069502  1.089759          2.15\n",
       "B58A-TTP1  1.020493  1.171277          1.84\n",
       "B58B-TTP1  1.057322  1.080000          1.85"
      ]
     },
     "execution_count": 2,
     "metadata": {},
     "output_type": "execute_result"
    }
   ],
   "source": [
    "input_dir = r\"C:\\Users\\fiddl\\IDC-GDC\\CCG-MILD\\Outputs\\output_1.csv\"\n",
    "\n",
    "df = pd.read_csv(input_dir,sep=',')\n",
    "headers = df['Sample_ID']\n",
    "df.set_index('Sample_ID', inplace=True)\n",
    "df.head()\n"
   ]
  },
  {
   "cell_type": "code",
   "execution_count": 3,
   "id": "74a72ee3",
   "metadata": {},
   "outputs": [
    {
     "data": {
      "text/html": [
       "<div>\n",
       "<style scoped>\n",
       "    .dataframe tbody tr th:only-of-type {\n",
       "        vertical-align: middle;\n",
       "    }\n",
       "\n",
       "    .dataframe tbody tr th {\n",
       "        vertical-align: top;\n",
       "    }\n",
       "\n",
       "    .dataframe thead th {\n",
       "        text-align: right;\n",
       "    }\n",
       "</style>\n",
       "<table border=\"1\" class=\"dataframe\">\n",
       "  <thead>\n",
       "    <tr style=\"text-align: right;\">\n",
       "      <th></th>\n",
       "      <th>Submitter ID</th>\n",
       "      <th>WGD Label</th>\n",
       "      <th>Purity</th>\n",
       "      <th>Ploidy</th>\n",
       "    </tr>\n",
       "  </thead>\n",
       "  <tbody>\n",
       "    <tr>\n",
       "      <th>0</th>\n",
       "      <td>B5B1-TTP2</td>\n",
       "      <td>WGD</td>\n",
       "      <td>0.20</td>\n",
       "      <td>3.62</td>\n",
       "    </tr>\n",
       "    <tr>\n",
       "      <th>1</th>\n",
       "      <td>B59G-TTP1</td>\n",
       "      <td>no_WGD</td>\n",
       "      <td>0.27</td>\n",
       "      <td>2.11</td>\n",
       "    </tr>\n",
       "    <tr>\n",
       "      <th>2</th>\n",
       "      <td>B5B8-TTP1</td>\n",
       "      <td>no_WGD</td>\n",
       "      <td>0.22</td>\n",
       "      <td>2.02</td>\n",
       "    </tr>\n",
       "    <tr>\n",
       "      <th>3</th>\n",
       "      <td>B5A3-TTP1</td>\n",
       "      <td>no_WGD</td>\n",
       "      <td>0.24</td>\n",
       "      <td>1.89</td>\n",
       "    </tr>\n",
       "    <tr>\n",
       "      <th>4</th>\n",
       "      <td>B597-TTP1</td>\n",
       "      <td>no_WGD</td>\n",
       "      <td>0.24</td>\n",
       "      <td>1.78</td>\n",
       "    </tr>\n",
       "  </tbody>\n",
       "</table>\n",
       "</div>"
      ],
      "text/plain": [
       "  Submitter ID WGD Label  Purity  Ploidy\n",
       "0    B5B1-TTP2       WGD    0.20    3.62\n",
       "1    B59G-TTP1    no_WGD    0.27    2.11\n",
       "2    B5B8-TTP1    no_WGD    0.22    2.02\n",
       "3    B5A3-TTP1    no_WGD    0.24    1.89\n",
       "4    B597-TTP1    no_WGD    0.24    1.78"
      ]
     },
     "execution_count": 3,
     "metadata": {},
     "output_type": "execute_result"
    }
   ],
   "source": [
    "WGD_csv = r\"G:\\My Drive\\ISB - Work\\Texture Analysis\\Clinical Data\\MILD\\MILD_WGD_TRUNCATED.csv\"\n",
    "\n",
    "WGD_df = pd.read_csv(WGD_csv, sep=',')\n",
    "#WGD_values = WGD_df['WGD Label']\n",
    "#WGD_df.set_index('Submitter ID',inplace=True)\n",
    "WGD_df.head()\n"
   ]
  },
  {
   "cell_type": "code",
   "execution_count": 4,
   "id": "b17aa1ed",
   "metadata": {},
   "outputs": [
    {
     "data": {
      "text/plain": [
       "142"
      ]
     },
     "execution_count": 4,
     "metadata": {},
     "output_type": "execute_result"
    }
   ],
   "source": [
    "WGD_df.sort_values(by=['Submitter ID'], inplace=True)\n",
    "TBD = []\n",
    "for index, label in zip(WGD_df['Submitter ID'], WGD_df['WGD Label']):\n",
    "    if label != 'WGD' and label != 'no_WGD':\n",
    "        TBD.append(index)\n",
    "\n",
    "WGD_df.set_index('Submitter ID', inplace=True)\n",
    "WGD_df.head()\n",
    "WGD_df.drop(TBD, axis=0, inplace=True)\n",
    "len(WGD_df)"
   ]
  },
  {
   "cell_type": "code",
   "execution_count": 5,
   "id": "f98fffc3",
   "metadata": {},
   "outputs": [
    {
     "data": {
      "text/plain": [
       "142"
      ]
     },
     "execution_count": 5,
     "metadata": {},
     "output_type": "execute_result"
    }
   ],
   "source": [
    "TBD = []\n",
    "for item in df.index:\n",
    "    if item not in WGD_df.index:\n",
    "        TBD.append(item)\n",
    "\n",
    "df.drop(TBD, axis=0, inplace=True)\n",
    "len(df)"
   ]
  },
  {
   "cell_type": "code",
   "execution_count": 6,
   "id": "9c6b9c4b",
   "metadata": {},
   "outputs": [],
   "source": [
    "WGD_values = []\n",
    "for item in WGD_df['WGD Label']:\n",
    "    if item == 'WGD':\n",
    "        WGD_values.append(1)\n",
    "    elif item == 'no_WGD':\n",
    "        WGD_values.append(0)"
   ]
  },
  {
   "cell_type": "code",
   "execution_count": 7,
   "id": "94379094",
   "metadata": {},
   "outputs": [
    {
     "name": "stdout",
     "output_type": "stream",
     "text": [
      "0.3448275862068966\n"
     ]
    }
   ],
   "source": [
    "RF = RandomForestClassifier()\n",
    "X, y = df[['c_ploidy', 'n_ploidy']], WGD_values\n",
    "X_train, X_test, y_train, y_test = train_test_split(X, y, stratify=y, test_size=0.2)\n",
    "\n",
    "RF = RF.fit(X_train, y_train)\n",
    "results = RF.predict(X_test)\n",
    "score = accuracy_score(y_test, results)\n",
    "\n",
    "print(score)"
   ]
  },
  {
   "cell_type": "code",
   "execution_count": 9,
   "id": "471f1f85",
   "metadata": {},
   "outputs": [
    {
     "name": "stdout",
     "output_type": "stream",
     "text": [
      "Output 1 : 0.6206896551724138\n",
      "Output 2 : 0.4827586206896552\n",
      "Output 3 : 0.3793103448275862\n",
      "Output 4 : 0.5172413793103449\n",
      "Output 5 : 0.4482758620689655\n"
     ]
    }
   ],
   "source": [
    "output_dir = r\"C:\\Users\\fiddl\\IDC-GDC\\CCG-MILD\\Outputs\"\n",
    "i=0\n",
    "for output in os.listdir(output_dir):\n",
    "    i+=1\n",
    "    input_dir = os.path.join(output_dir, output)\n",
    "    df = pd.read_csv(input_dir,sep=',')\n",
    "    headers = df['Sample_ID']\n",
    "    df.set_index('Sample_ID', inplace=True)\n",
    "    TBD = []\n",
    "    for item in df.index:\n",
    "        if item not in WGD_df.index:\n",
    "            TBD.append(item)\n",
    "\n",
    "    df.drop(TBD, axis=0, inplace=True)\n",
    "    RF = RandomForestClassifier()\n",
    "    X, y = df[['c_ploidy', 'n_ploidy']], WGD_values\n",
    "    X_train, X_test, y_train, y_test = train_test_split(X, y, stratify=y, test_size=0.2)\n",
    "\n",
    "    RF = RF.fit(X_train, y_train)\n",
    "    results = RF.predict(X_test)\n",
    "    score = accuracy_score(y_test, results)\n",
    "\n",
    "    print('Output',i,':',score)   "
   ]
  },
  {
   "cell_type": "code",
   "execution_count": null,
   "id": "b10156c1",
   "metadata": {},
   "outputs": [],
   "source": []
  }
 ],
 "metadata": {
  "kernelspec": {
   "display_name": "Python 3 (ipykernel)",
   "language": "python",
   "name": "python3"
  },
  "language_info": {
   "codemirror_mode": {
    "name": "ipython",
    "version": 3
   },
   "file_extension": ".py",
   "mimetype": "text/x-python",
   "name": "python",
   "nbconvert_exporter": "python",
   "pygments_lexer": "ipython3",
   "version": "3.9.18"
  }
 },
 "nbformat": 4,
 "nbformat_minor": 5
}
